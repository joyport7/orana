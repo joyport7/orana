{
 "cells": [
  {
   "cell_type": "code",
   "execution_count": 1,
   "id": "9ff2c152-361e-47f8-858f-053c55637a61",
   "metadata": {
    "tags": []
   },
   "outputs": [],
   "source": [
    "import os\n",
    "import sys\n",
    "import re\n",
    "import requests\n",
    "from bs4 import BeautifulSoup\n",
    "import pickle\n",
    "sys.path.append('../')\n",
    "import confana\n",
    "#from common import *"
   ]
  },
  {
   "cell_type": "code",
   "execution_count": null,
   "id": "37ec68c7-c649-4878-8b80-a7d4242073f7",
   "metadata": {},
   "outputs": [],
   "source": [
    "# configurations\n",
    "urlpost = '/Conference'\n",
    "since = 2018\n",
    "until = 2025\n",
    "\n",
    "urlpre = 'https://openreview.net/group?id=ICLR.cc/'\n",
    "param = confana.set_param(urlpre, 'ICLR', since, until, 1, 1)\n",
    "\n",
    "#urlpre = 'https://openreview.net/group?id=robot-learning.org/CoRL/'\n",
    "#param = confana.set_param(urlpre, 'CoRL', since, until, 1, 1)\n",
    "\n",
    "#urlpre = 'https://openreview.net/group?id=NeurIPS.cc/'\n",
    "#param = confana.set_param(urlpre, 'NeurIPS', since, until, 1, 1)\n",
    "\n",
    "histall = {}\n",
    "\n",
    "for ii in range(since,until+1,1):\n",
    "    yr = str(ii)\n",
    "    url = urlpre+yr+urlpost\n",
    "    pklfl = param.cachedir + '/' + 'summary' + yr\n",
    "    conf = param.conf_prefix + yr\n",
    "    print(conf,'...')\n",
    "\n",
    "    if os.path.exists(pklfl):\n",
    "        with open(pklfl,'rb') as f:\n",
    "            authorss, titles, numoral, numsl, numposter = pickle.load(f)\n",
    "            print(f'loading {pklfl}...')\n",
    "    else:\n",
    "        pu = confana.parseUrl(param,yr)\n",
    "        normal, authorss, titles, numoral, numsl, numposter = pu.parseOpenReview(url)\n",
    "        if normal < 0: \n",
    "            print('parsing failed...')\n",
    "\n",
    "    print(r'oral: {}, spotlight: {}, poster: {}, total: {}'.format(numoral, numsl, numposter,len(titles)))\n",
    "    pAT = confana.parseATlist(titles, authorss)\n",
    "    jpauthors, jptitles, numallauthors, numjpauthors, numpapers, numjppaper = pAT.selectJP()\n",
    "    hist = pAT.makehist(jpauthors,yr)\n",
    "\n",
    "    with open(pklfl, 'wb') as f:\n",
    "        pickle.dump((authorss, titles, numoral, numsl, numposter), f)\n",
    "\n",
    "    print(f'\\t{numjpauthors} Japanese authors out of all {numallauthors} authors')\n",
    "    print(f'\\t{numjppaper} Japanese related papers out of all {numpapers} papers')\n",
    "        \n",
    "    #print(jpauthors)\n",
    "    #for ii in range(0,len(jpauthors)):\n",
    "    #    print(f'{jpauthors[ii]}\\t{jptitles[ii]}')\n",
    "    pAT = confana.parseATlist(titles, authorss)\n",
    "    histall = pAT.mergehist(histall,hist,yr)\n",
    "\n",
    "ph = confana.parseHist(param,histall)\n",
    "ph.plotsorted()"
   ]
  },
  {
   "cell_type": "code",
   "execution_count": null,
   "id": "5e1eb7d1-96a7-423c-ae64-79aff530c3e2",
   "metadata": {},
   "outputs": [],
   "source": [
    "import pickle\n",
    "import re\n",
    "\n",
    "for year in range(2018,2025,1):\n",
    "    print(\"----\")\n",
    "    print(year)\n",
    "    with open(param.cachedir + '/' +   'summary' + str(year) , 'rb' ) as f:\n",
    "        authorss, titles, numoral, numsl, numposter = pickle.load(f)\n",
    "\n",
    "    numpaper = len(titles)\n",
    "    pt = confana.parseTitle(titles)\n",
    "    stwordhist = pt.wordfreq()\n",
    "    for item in stwordhist:\n",
    "        ratio = item[1]/numpaper\n",
    "        if ratio > 0.005:\n",
    "            #print(\"{0:}\\t{1:}\\t{2:.5f}\".format(item[0],item[1],ratio))\n",
    "            print(\"{0:}\\t{1:.5f}\".format(item[0],ratio))\n",
    "            #print(\"{0:}: {1:}\".format(item[0],item[1]))\n"
   ]
  }
 ],
 "metadata": {
  "kernelspec": {
   "display_name": "scraping",
   "language": "python",
   "name": "python3"
  },
  "language_info": {
   "codemirror_mode": {
    "name": "ipython",
    "version": 3
   },
   "file_extension": ".py",
   "mimetype": "text/x-python",
   "name": "python",
   "nbconvert_exporter": "python",
   "pygments_lexer": "ipython3",
   "version": "3.11.7"
  }
 },
 "nbformat": 4,
 "nbformat_minor": 5
}
